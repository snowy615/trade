{
 "cells": [
  {
   "cell_type": "code",
   "id": "initial_id",
   "metadata": {
    "collapsed": true,
    "ExecuteTime": {
     "end_time": "2025-08-05T21:59:22.943748Z",
     "start_time": "2025-08-05T21:59:19.026633Z"
    }
   },
   "source": [
    "import yfinance as yf\n",
    "from datetime import datetime, timedelta\n",
    "import matplotlib.pyplot as plt\n",
    "from statsmodels.graphics.tsaplots import plot_acf, plot_pacf\n",
    "from statsmodels.tsa.arima_model import ARIMA\n",
    "import numpy as np\n",
    "import seaborn as sns\n",
    "from tqdm import tqdm\n",
    "import pandas as pd\n",
    "from statsmodels.tools.sm_exceptions import ValueWarning, HessianInversionWarning, ConvergenceWarning\n",
    "import warnings\n",
    "\n",
    "#in practice do not supress these warnings, they carry important information about the status of your model\n",
    "warnings.filterwarnings('ignore', category=ValueWarning)\n",
    "warnings.filterwarnings('ignore', category=HessianInversionWarning)\n",
    "warnings.filterwarnings('ignore', category=ConvergenceWarning)"
   ],
   "outputs": [],
   "execution_count": 1
  },
  {
   "metadata": {},
   "cell_type": "code",
   "outputs": [],
   "execution_count": null,
   "source": [
    "def run_simulation(returns, prices, amt, order, thresh, verbose=False, plot=True):\n",
    "    if type(order) == float:\n",
    "        thresh = None\n",
    "\n",
    "    curr_holding = False\n",
    "    events_list = []\n",
    "    init_amt = amt\n",
    "\n",
    "    #go through dates\n",
    "    for date, r in tqdm (returns.iloc[14:].items(), total=len(returns.iloc[14:])):\n",
    "        #if you're currently holding the stock, sell it\n",
    "        if curr_holding:\n",
    "            sell_price = prices.loc[date]\n",
    "            curr_holding=False\n",
    "            ret = (sell_price-buy_price)/buy_price\n",
    "            amt *= (1+ret)\n",
    "            events_list.append(('s', date, ret))\n",
    "\n",
    "            if verbose:\n",
    "                print('Sold at $%s'%sell_price)\n",
    "                print('Predicted Return: %s'%round(pred,4))\n",
    "                print('Actual Return: %s'%(round(ret, 4)))\n",
    "                print('=======================================')\n",
    "            continue\n",
    "\n",
    "        #get data til just before current date\n",
    "        curr_data = returns[:date]\n",
    "\n",
    "        if type(order) == tuple:\n",
    "            try:\n",
    "                #fit model\n",
    "                model = ARIMA(curr_data, order=order).fit(maxiter=200)\n",
    "\n",
    "                #get forecast\n",
    "                pred = model.forecast()[0][0]\n",
    "\n",
    "            except:\n",
    "                pred = thresh - 1\n",
    "\n",
    "\n",
    "\n",
    "        #if you predict a high enough return and not holding, buy stock\n",
    "        if (not curr_holding) and \\\n",
    "        ((type(order) == float and np.random.random() < order)\n",
    "         or (type(order) == tuple and pred > thresh)\n",
    "         or (order == 'last' and curr_data[-1] > 0)):\n",
    "\n",
    "            curr_holding = True\n",
    "            buy_price = prices.loc[date]\n",
    "            events_list.append(('b', date))\n",
    "            if verbose:\n",
    "                print('Bought at $%s'%buy_price)\n",
    "\n",
    "    if verbose:\n",
    "        print('Total Amount: $%s'%round(amt,2))\n",
    "\n",
    "    #graph\n",
    "    if plot:\n",
    "\n",
    "        plt.figure(figsize=(10,4))\n",
    "        plt.plot(prices[14:])\n",
    "\n",
    "        y_lims = (int(prices.min()*.95), int(prices.max()*1.05))\n",
    "        shaded_y_lims = int(prices.min()*.5), int(prices.max()*1.5)\n",
    "\n",
    "        for idx, event in enumerate(events_list):\n",
    "            plt.axvline(event[1], color='k', linestyle='--', alpha=0.4)\n",
    "            if event[0] == 's':\n",
    "                color = 'green' if event[2] > 0 else 'red'\n",
    "                plt.fill_betweenx(range(*shaded_y_lims),\n",
    "                                  event[1], events_list[idx-1][1], color=color, alpha=0.1)\n",
    "\n",
    "        tot_return = round(100*(amt / init_amt - 1), 2)\n",
    "        tot_return = str(tot_return) + '%'\n",
    "        plt.title(\"%s Price Data\\nThresh=%s\\nTotal Amt: $%s\\nTotal Return: %s\"%(tickerSymbol, thresh, round(amt,2), tot_return), fontsize=20)\n",
    "        plt.ylim(*y_lims)\n",
    "        plt.show()\n",
    "\n",
    "    return amt"
   ],
   "id": "916ee0db272a2cdb"
  },
  {
   "metadata": {},
   "cell_type": "code",
   "outputs": [],
   "execution_count": null,
   "source": [
    "tickerSymbol = 'AAPL'\n",
    "data = yf.Ticker(tickerSymbol)\n",
    "prices = data.history(start='2021-01-01', end='2021-04-01').Close\n",
    "returns = prices.pct_change().dropna()\n",
    "plt.figure(figsize=(10,4))\n",
    "plt.plot(prices)\n",
    "plt.ylabel('Prices', fontsize=20)"
   ],
   "id": "b6d36cd42f2213b5"
  },
  {
   "metadata": {},
   "cell_type": "code",
   "outputs": [],
   "execution_count": null,
   "source": [
    "plt.figure(figsize=(10,4))\n",
    "plt.plot(returns)\n",
    "plt.ylabel('Return', fontsize=20)"
   ],
   "id": "5dbcc65542cc1c52"
  },
  {
   "metadata": {},
   "cell_type": "code",
   "outputs": [],
   "execution_count": null,
   "source": [
    "plot_acf(returns)\n",
    "plt.show()"
   ],
   "id": "9b5eb4fac4fdd890"
  },
  {
   "metadata": {},
   "cell_type": "code",
   "outputs": [],
   "execution_count": null,
   "source": [
    "plot_pacf(returns)\n",
    "plt.show()"
   ],
   "id": "bdfed920e103dbd0"
  },
  {
   "metadata": {},
   "cell_type": "code",
   "outputs": [],
   "execution_count": null,
   "source": [
    "#AR(1) model\n",
    "for thresh in [0, 0.001, 0.005]:\n",
    "    run_simulation(returns, prices, 100, (1,0,0), thresh, verbose=False)"
   ],
   "id": "5a43d7e5bb362122"
  },
  {
   "metadata": {},
   "cell_type": "code",
   "outputs": [],
   "execution_count": null,
   "source": [
    "#AR(5) model\n",
    "for thresh in [0, 0.001, 0.005]:\n",
    "    run_simulation(returns, prices, 100, (5,0,0), thresh, verbose=False)"
   ],
   "id": "83cd933b3306487c"
  },
  {
   "metadata": {},
   "cell_type": "code",
   "outputs": [],
   "execution_count": null,
   "source": [
    "#ARMA(5,5) model\n",
    "for thresh in [0, 0.001, 0.005]:\n",
    "    run_simulation(returns, prices, 100, (5,0,5), thresh, verbose=False)"
   ],
   "id": "d599aca3bf103114"
  }
 ],
 "metadata": {
  "kernelspec": {
   "display_name": "Python 3",
   "language": "python",
   "name": "python3"
  },
  "language_info": {
   "codemirror_mode": {
    "name": "ipython",
    "version": 2
   },
   "file_extension": ".py",
   "mimetype": "text/x-python",
   "name": "python",
   "nbconvert_exporter": "python",
   "pygments_lexer": "ipython2",
   "version": "2.7.6"
  }
 },
 "nbformat": 4,
 "nbformat_minor": 5
}
