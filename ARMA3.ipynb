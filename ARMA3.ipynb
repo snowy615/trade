{
 "cells": [
  {
   "metadata": {},
   "cell_type": "markdown",
   "source": [
    "function additions\n",
    "\n",
    "split the data into training and testing sets\n",
    "\n",
    "fit an ARMA model to the training data\n",
    "\n",
    "evaluate the model on the testing data\n",
    "\n",
    "plot the actual vs predicted values\n",
    "\n",
    "predict future values using the ARMA model\n",
    "\n",
    "place limit order to buy GBP/USD at a specific price based on ARMA model prediction\n"
   ],
   "id": "2fc6b12ba60d698b"
  },
  {
   "metadata": {
    "ExecuteTime": {
     "end_time": "2025-08-08T23:12:26.693994Z",
     "start_time": "2025-08-08T23:12:24.259179Z"
    }
   },
   "cell_type": "code",
   "source": [
    "from ibapi.client import EClient\n",
    "from ibapi.wrapper import EWrapper\n",
    "from ibapi.contract import Contract\n",
    "from ibapi.order import Order\n",
    "from ibapi.order_state import OrderState\n",
    "from ibapi.execution import Execution\n",
    "from ibapi.common import OrderId\n",
    "\n",
    "import pandas as pd\n",
    "from statsmodels.tsa.arima.model import ARIMA\n",
    "import numpy as np"
   ],
   "id": "64e477ca3559b2d",
   "outputs": [],
   "execution_count": 1
  },
  {
   "metadata": {
    "jupyter": {
     "is_executing": true
    },
    "ExecuteTime": {
     "start_time": "2025-08-08T23:12:36.659699Z"
    }
   },
   "cell_type": "code",
   "source": [
    "class TestApp(EClient, EWrapper):\n",
    "    def __init__(self):\n",
    "        EClient.__init__(self, self)\n",
    "        self.predicted_price = None\n",
    "        self.nextOrderId = None\n",
    "        self.bars = []\n",
    "\n",
    "    def nextValidId(self, orderId: OrderId):\n",
    "        self.nextOrderId = orderId\n",
    "        print(f\"Next valid order ID: {orderId}\")\n",
    "\n",
    "        # Define GBP/USD contract\n",
    "        mycontract = Contract()\n",
    "        mycontract.symbol = \"GBP\"\n",
    "        mycontract.secType = \"CASH\"\n",
    "        mycontract.exchange = \"IDEALPRO\"\n",
    "        mycontract.currency = \"USD\"\n",
    "\n",
    "        # Request historical data\n",
    "        self.reqHistoricalData(\n",
    "            reqId=1,\n",
    "            contract=mycontract,\n",
    "            endDateTime=\"\",\n",
    "            durationStr=\"30 D\",\n",
    "            barSizeSetting=\"1 hour\",\n",
    "            whatToShow=\"MIDPOINT\",\n",
    "            useRTH=0,\n",
    "            formatDate=1,\n",
    "            keepUpToDate=False,\n",
    "            chartOptions=[]\n",
    "        )\n",
    "\n",
    "    def historicalData(self, reqId, bar):\n",
    "        self.bars.append((bar.date, bar.close))\n",
    "\n",
    "    def historicalDataEnd(self, reqId, start, end):\n",
    "        df = pd.DataFrame(self.bars, columns=[\"date\", \"close\"])\n",
    "        df[\"close\"] = df[\"close\"].astype(float)\n",
    "        df.set_index(pd.to_datetime(df[\"date\"]), inplace=True)\n",
    "        df = df[\"close\"]\n",
    "\n",
    "        # Train/test split\n",
    "        split_idx = int(len(df) * 0.8)\n",
    "        train, test = df[:split_idx], df[split_idx:]\n",
    "\n",
    "        # Fit ARIMA\n",
    "        model = ARIMA(train, order=(1, 1, 1))\n",
    "        model_fit = model.fit()\n",
    "\n",
    "        # Evaluate\n",
    "        predictions = model_fit.forecast(steps=len(test))\n",
    "        mse = ((predictions.values - test.values) ** 2).mean()\n",
    "        print(f\"Test MSE: {mse:.6f}\")\n",
    "\n",
    "        # Predict future 1-step\n",
    "        forecast = model_fit.forecast(steps=1)\n",
    "        self.predicted_price = float(forecast.iloc[0])\n",
    "        print(f\"Predicted next GBP/USD: {self.predicted_price}\")\n",
    "\n",
    "        # Request contract details to place order\n",
    "        mycontract = Contract()\n",
    "        mycontract.symbol = \"GBP\"\n",
    "        mycontract.secType = \"CASH\"\n",
    "        mycontract.exchange = \"IDEALPRO\"\n",
    "        mycontract.currency = \"USD\"\n",
    "\n",
    "        self.reqContractDetails(2, mycontract)\n",
    "\n",
    "    def contractDetails(self, reqId: int, contractDetails):\n",
    "        print(\"Contract details received. Placing order...\")\n",
    "\n",
    "        myorder = Order()\n",
    "        myorder.orderId = self.nextOrderId\n",
    "        myorder.action = \"BUY\"\n",
    "        myorder.orderType = \"LMT\"\n",
    "        myorder.tif = \"GTC\"\n",
    "        myorder.lmtPrice = round(self.predicted_price - 0.0001, 5)\n",
    "        myorder.totalQuantity = float(10000)  # make float for fractional size rules\n",
    "        myorder.eTradeOnly = False\n",
    "        myorder.firmQuoteOnly = False\n",
    "\n",
    "        self.placeOrder(myorder.orderId, contractDetails.contract, myorder)\n",
    "\n",
    "    def openOrder(self, orderId: OrderId, contract: Contract, order: Order, orderState: OrderState):\n",
    "        print(f\"openOrder: {orderId}, contract: {contract.symbol}, price: {order.lmtPrice}\")\n",
    "\n",
    "    def execDetails(self, reqId: int, contract: Contract, execution: Execution):\n",
    "        print(f\"Execution details: {execution}\")\n",
    "\n",
    "app = TestApp()\n",
    "app.connect(\"127.0.0.1\", 7497, clientId=200)\n",
    "app.run()\n"
   ],
   "id": "90f758853a8cf57",
   "outputs": [
    {
     "name": "stderr",
     "output_type": "stream",
     "text": [
      "ERROR -1 2104 Market data farm connection is OK:usfarm.nj\n",
      "ERROR -1 2104 Market data farm connection is OK:usfuture\n",
      "ERROR -1 2104 Market data farm connection is OK:cashfarm\n",
      "ERROR -1 2104 Market data farm connection is OK:usfarm\n",
      "ERROR -1 2106 HMDS data farm connection is OK:ushmds\n",
      "ERROR -1 2158 Sec-def data farm connection is OK:secdefil\n",
      "ERROR 1 10285 Your API version does not support fractional size rules. Please upgrade to a minimum version 163.\n"
     ]
    },
    {
     "name": "stdout",
     "output_type": "stream",
     "text": [
      "Next valid order ID: 2\n"
     ]
    }
   ],
   "execution_count": null
  }
 ],
 "metadata": {
  "kernelspec": {
   "display_name": "Python 3",
   "language": "python",
   "name": "python3"
  },
  "language_info": {
   "codemirror_mode": {
    "name": "ipython",
    "version": 2
   },
   "file_extension": ".py",
   "mimetype": "text/x-python",
   "name": "python",
   "nbconvert_exporter": "python",
   "pygments_lexer": "ipython2",
   "version": "2.7.6"
  }
 },
 "nbformat": 4,
 "nbformat_minor": 5
}
