{
 "cells": [
  {
   "cell_type": "code",
   "id": "initial_id",
   "metadata": {
    "collapsed": true,
    "ExecuteTime": {
     "end_time": "2025-08-04T23:27:57.000398Z",
     "start_time": "2025-08-04T23:27:56.953791Z"
    }
   },
   "source": [
    "from ibapi.client import *\n",
    "from ibapi.wrapper import *\n",
    "import time\n",
    "import threading"
   ],
   "outputs": [],
   "execution_count": 1
  },
  {
   "metadata": {
    "ExecuteTime": {
     "end_time": "2025-08-04T23:39:28.185381Z",
     "start_time": "2025-08-04T23:39:27.027505Z"
    }
   },
   "cell_type": "code",
   "source": [
    "class TestApp(EClient, EWrapper):\n",
    "    def __init__(self):\n",
    "        EClient.__init__(self, self)\n",
    "\n",
    "    def nextValidId(self, orderId):\n",
    "        self.nextOrderId = orderId\n",
    "        print(f\"Next valid order ID: {self.nextOrderId}\")\n",
    "\n",
    "    def nextId(self):\n",
    "        self.orderId += 1\n",
    "        return self.orderId\n",
    "\n",
    "    def currentTime(self, time):\n",
    "        print(time)\n",
    "\n",
    "    def error(self, reqId, errorCode, errorString):\n",
    "        print(f\"Error. Id: {reqId}, Code: {errorCode}, Msg: {errorString}\")\n",
    "\n",
    "app = TestApp()\n",
    "app.connect(\"127.0.0.1\", 7497, 0)\n",
    "\n",
    "thread = threading.Thread(target=app.run).start()\n",
    "time.sleep(1)\n",
    "\n",
    "for i in range(0,5):\n",
    "    print(app.nextId())\n",
    "    app.reqCurrentTime()\n"
   ],
   "id": "d62e765909c9fcee",
   "outputs": [
    {
     "name": "stdout",
     "output_type": "stream",
     "text": [
      "Next valid order ID: 5\n",
      "Error. Id: -1, Code: 2104, Msg: Market data farm connection is OK:usfarm.nj\n",
      "Error. Id: -1, Code: 2104, Msg: Market data farm connection is OK:usfuture\n",
      "Error. Id: -1, Code: 2104, Msg: Market data farm connection is OK:cashfarm\n",
      "Error. Id: -1, Code: 2104, Msg: Market data farm connection is OK:usfarm\n",
      "Error. Id: -1, Code: 2106, Msg: HMDS data farm connection is OK:ushmds\n",
      "Error. Id: -1, Code: 2158, Msg: Sec-def data farm connection is OK:secdefil\n"
     ]
    },
    {
     "ename": "AttributeError",
     "evalue": "'TestApp' object has no attribute 'orderId'",
     "output_type": "error",
     "traceback": [
      "\u001B[0;31m---------------------------------------------------------------------------\u001B[0m",
      "\u001B[0;31mAttributeError\u001B[0m                            Traceback (most recent call last)",
      "Cell \u001B[0;32mIn[10], line 26\u001B[0m\n\u001B[1;32m     23\u001B[0m time\u001B[38;5;241m.\u001B[39msleep(\u001B[38;5;241m1\u001B[39m)\n\u001B[1;32m     25\u001B[0m \u001B[38;5;28;01mfor\u001B[39;00m i \u001B[38;5;129;01min\u001B[39;00m \u001B[38;5;28mrange\u001B[39m(\u001B[38;5;241m0\u001B[39m,\u001B[38;5;241m5\u001B[39m):\n\u001B[0;32m---> 26\u001B[0m     \u001B[38;5;28mprint\u001B[39m(\u001B[43mapp\u001B[49m\u001B[38;5;241;43m.\u001B[39;49m\u001B[43mnextId\u001B[49m\u001B[43m(\u001B[49m\u001B[43m)\u001B[49m)\n\u001B[1;32m     27\u001B[0m     app\u001B[38;5;241m.\u001B[39mreqCurrentTime()\n",
      "Cell \u001B[0;32mIn[10], line 10\u001B[0m, in \u001B[0;36mTestApp.nextId\u001B[0;34m(self)\u001B[0m\n\u001B[1;32m      9\u001B[0m \u001B[38;5;28;01mdef\u001B[39;00m\u001B[38;5;250m \u001B[39m\u001B[38;5;21mnextId\u001B[39m(\u001B[38;5;28mself\u001B[39m):\n\u001B[0;32m---> 10\u001B[0m     \u001B[38;5;28mself\u001B[39m\u001B[38;5;241m.\u001B[39morderId \u001B[38;5;241m+\u001B[39m\u001B[38;5;241m=\u001B[39m \u001B[38;5;241m1\u001B[39m\n\u001B[1;32m     11\u001B[0m     \u001B[38;5;28;01mreturn\u001B[39;00m \u001B[38;5;28mself\u001B[39m\u001B[38;5;241m.\u001B[39morderId\n",
      "\u001B[0;31mAttributeError\u001B[0m: 'TestApp' object has no attribute 'orderId'"
     ]
    }
   ],
   "execution_count": 10
  },
  {
   "metadata": {
    "ExecuteTime": {
     "end_time": "2025-08-04T23:34:22.967886Z",
     "start_time": "2025-08-04T23:34:22.918266Z"
    }
   },
   "cell_type": "code",
   "source": "",
   "id": "a44d39b673aad123",
   "outputs": [
    {
     "ename": "AttributeError",
     "evalue": "'TestApp' object has no attribute 'orderId'",
     "output_type": "error",
     "traceback": [
      "\u001B[0;31m---------------------------------------------------------------------------\u001B[0m",
      "\u001B[0;31mAttributeError\u001B[0m                            Traceback (most recent call last)",
      "Cell \u001B[0;32mIn[7], line 2\u001B[0m\n\u001B[1;32m      1\u001B[0m \u001B[38;5;28;01mfor\u001B[39;00m i \u001B[38;5;129;01min\u001B[39;00m \u001B[38;5;28mrange\u001B[39m(\u001B[38;5;241m5\u001B[39m,\u001B[38;5;241m10\u001B[39m):\n\u001B[0;32m----> 2\u001B[0m     \u001B[38;5;28mprint\u001B[39m(\u001B[43mapp\u001B[49m\u001B[38;5;241;43m.\u001B[39;49m\u001B[43mnextId\u001B[49m\u001B[43m(\u001B[49m\u001B[43m)\u001B[49m)\n",
      "Cell \u001B[0;32mIn[4], line 10\u001B[0m, in \u001B[0;36mTestApp.nextId\u001B[0;34m(self)\u001B[0m\n\u001B[1;32m      9\u001B[0m \u001B[38;5;28;01mdef\u001B[39;00m\u001B[38;5;250m \u001B[39m\u001B[38;5;21mnextId\u001B[39m(\u001B[38;5;28mself\u001B[39m):\n\u001B[0;32m---> 10\u001B[0m     \u001B[38;5;28mself\u001B[39m\u001B[38;5;241m.\u001B[39morderId \u001B[38;5;241m+\u001B[39m\u001B[38;5;241m=\u001B[39m \u001B[38;5;241m1\u001B[39m\n\u001B[1;32m     11\u001B[0m     \u001B[38;5;28;01mreturn\u001B[39;00m \u001B[38;5;28mself\u001B[39m\u001B[38;5;241m.\u001B[39morderId\n",
      "\u001B[0;31mAttributeError\u001B[0m: 'TestApp' object has no attribute 'orderId'"
     ]
    }
   ],
   "execution_count": 7
  }
 ],
 "metadata": {
  "kernelspec": {
   "display_name": "Python 3",
   "language": "python",
   "name": "python3"
  },
  "language_info": {
   "codemirror_mode": {
    "name": "ipython",
    "version": 2
   },
   "file_extension": ".py",
   "mimetype": "text/x-python",
   "name": "python",
   "nbconvert_exporter": "python",
   "pygments_lexer": "ipython2",
   "version": "2.7.6"
  }
 },
 "nbformat": 4,
 "nbformat_minor": 5
}
