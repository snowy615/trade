{
 "cells": [
  {
   "cell_type": "code",
   "id": "initial_id",
   "metadata": {
    "collapsed": true,
    "ExecuteTime": {
     "end_time": "2025-08-05T00:10:55.268833Z",
     "start_time": "2025-08-05T00:09:04.974964Z"
    }
   },
   "source": [
    "from ibapi.client import *\n",
    "from ibapi.wrapper import *\n",
    "\n",
    "class TestApp(EClient, EWrapper):\n",
    "    def __init__(self):\n",
    "        EClient.__init__(self, self)\n",
    "\n",
    "    def nextValidId(self, orderId: OrderId):\n",
    "        mycontract = Contract()\n",
    "        mycontract.symbol = \"GBP\"\n",
    "        mycontract.secType = \"CASH\"\n",
    "        mycontract.exchange = \"IDEALPRO\"\n",
    "        mycontract.currency = \"USD\"\n",
    "\n",
    "        self.reqContractDetails(orderId, mycontract)\n",
    "\n",
    "    def contractDetails(self, reqId: int, contractDetails: ContractDetails):\n",
    "        print(contractDetails.contract)\n",
    "\n",
    "        myorder = Order()\n",
    "        myorder.orderId = reqId\n",
    "        myorder.action = \"SELL\"\n",
    "        myorder.eTradeOnly = False\n",
    "        myorder.firmQuoteOnly = False\n",
    "        myorder.tif = \"GTC\"\n",
    "        myorder.orderType = \"LMT\"\n",
    "        myorder.lmtPrice = 1.3300  # Example limit price for GBP/USD\n",
    "        myorder.totalQuantity = 10000  # Example quantity\n",
    "\n",
    "        self.placeOrder(myorder.orderId, contractDetails.contract, myorder)\n",
    "\n",
    "    def openOrder(self, orderId: OrderId, contract: Contract, order: Order, orderState: OrderState):\n",
    "        print(f\"openOrder. orderId: {orderId}, contract: {contract}, order: {order}\")\n",
    "\n",
    "    def execDetails(self, reqId: int, contract: Contract, execution: Execution):\n",
    "        print(f\"reqId: {reqId}, contract: {contract}, execution: {execution}\")\n",
    "\n",
    "app = TestApp()\n",
    "app.connect(\"127.0.0.1\", 7497, 200)\n",
    "app.run()"
   ],
   "outputs": [
    {
     "name": "stderr",
     "output_type": "stream",
     "text": [
      "ERROR -1 2104 Market data farm connection is OK:usfarm.nj\n",
      "ERROR -1 2104 Market data farm connection is OK:usfuture\n",
      "ERROR -1 2104 Market data farm connection is OK:cashfarm\n",
      "ERROR -1 2104 Market data farm connection is OK:usfarm\n",
      "ERROR -1 2106 HMDS data farm connection is OK:ushmds\n",
      "ERROR -1 2158 Sec-def data farm connection is OK:secdefil\n"
     ]
    },
    {
     "name": "stdout",
     "output_type": "stream",
     "text": [
      "12087797,GBP,CASH,,0.0,,,IDEALPRO,,USD,GBP.USD,GBP.USD,False,,combo:\n"
     ]
    },
    {
     "name": "stderr",
     "output_type": "stream",
     "text": [
      "ERROR 1 399 Order Message: SELL 10K GBP.USD Forex Warning: Your order size is below the GBP 20000 IdealPro minimum and will be routed as an odd lot order.\n"
     ]
    },
    {
     "name": "stdout",
     "output_type": "stream",
     "text": [
      "openOrder. orderId: 1, contract: 12087797,GBP,CASH,,0.0,?,,IDEALPRO,,USD,GBP.USD,GBP.USD,False,,combo:, order: 1,200,178176935: LMT SELL 10000@1.330000 GTC\n",
      "openOrder. orderId: 1, contract: 12087797,GBP,CASH,,0.0,?,,IDEALPRO,,USD,GBP.USD,GBP.USD,False,,combo:, order: 1,200,178176935: LMT SELL 10000@1.330000 GTC\n",
      "reqId: -1, contract: 12087797,GBP,CASH,,0.0,,,IDEALPRO,,USD,GBP.USD,GBP.USD,False,,combo:, execution: ExecId: 000132b0.6891227d.01.01, Time: 20250804  17:09:05, Account: DUM363452, Exchange: IDEALPRO, Side: SLD, Shares: 10000.000000, Price: 1.330050, PermId: 178176935, ClientId: 200, OrderId: 1, Liquidation: 0, CumQty: 10000.000000, AvgPrice: 1.330050, OrderRef: , EvRule: , EvMultiplier: 0.000000, ModelCode: , LastLiquidity: 2\n",
      "openOrder. orderId: 1, contract: 12087797,GBP,CASH,,0.0,?,,IDEALPRO,,USD,GBP.USD,GBP.USD,False,,combo:, order: 1,200,178176935: LMT SELL 10000@1.330000 GTC\n",
      "openOrder. orderId: 1, contract: 12087797,GBP,CASH,,0.0,?,,IDEALPRO,,USD,GBP.USD,GBP.USD,False,,combo:, order: 1,200,178176935: LMT SELL 10000@1.330000 GTC\n"
     ]
    }
   ],
   "execution_count": 2
  },
  {
   "metadata": {},
   "cell_type": "code",
   "outputs": [],
   "execution_count": null,
   "source": "",
   "id": "a34ac08cd3f66274"
  }
 ],
 "metadata": {
  "kernelspec": {
   "display_name": "Python 3",
   "language": "python",
   "name": "python3"
  },
  "language_info": {
   "codemirror_mode": {
    "name": "ipython",
    "version": 2
   },
   "file_extension": ".py",
   "mimetype": "text/x-python",
   "name": "python",
   "nbconvert_exporter": "python",
   "pygments_lexer": "ipython2",
   "version": "2.7.6"
  }
 },
 "nbformat": 4,
 "nbformat_minor": 5
}
